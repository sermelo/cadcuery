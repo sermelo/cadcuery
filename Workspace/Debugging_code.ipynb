{
 "cells": [
  {
   "cell_type": "markdown",
   "id": "2e968f02-bfdc-4677-a406-91affda607ce",
   "metadata": {},
   "source": [
    "# Debugging print code"
   ]
  },
  {
   "cell_type": "code",
   "execution_count": 1,
   "id": "1c4f935e-ca42-4b39-9c30-37ee43837ff8",
   "metadata": {},
   "outputs": [],
   "source": [
    "import cadquery as cq\n",
    "\n",
    "\n",
    "def tidy_repr(obj):\n",
    "    \"\"\"Shortens a default repr string\"\"\"\n",
    "    return repr(obj).split(\".\")[-1].rstrip(\">\")\n",
    "\n",
    "\n",
    "def _ctx_str(self):\n",
    "    return (\n",
    "        tidy_repr(self)\n",
    "        + \":\\n\"\n",
    "        + f\"    pendingWires: {self.pendingWires}\\n\"\n",
    "        + f\"    pendingEdges: {self.pendingEdges}\\n\"\n",
    "        + f\"    tags: {self.tags}\"\n",
    "    )\n",
    "\n",
    "\n",
    "cq.cq.CQContext.__str__ = _ctx_str\n",
    "\n",
    "\n",
    "def _plane_str(self):\n",
    "    return (\n",
    "        tidy_repr(self)\n",
    "        + \":\\n\"\n",
    "        + f\"    origin: {self.origin.toTuple()}\\n\"\n",
    "        + f\"    z direction: {self.zDir.toTuple()}\"\n",
    "    )\n",
    "\n",
    "\n",
    "cq.occ_impl.geom.Plane.__str__ = _plane_str\n",
    "\n",
    "\n",
    "def _wp_str(self):\n",
    "    out = tidy_repr(self) + \":\\n\"\n",
    "    out += f\"  parent: {tidy_repr(self.parent)}\\n\" if self.parent else \"  no parent\\n\"\n",
    "    out += f\"  plane: {self.plane}\\n\"\n",
    "    out += f\"  objects: {self.objects}\\n\"\n",
    "    out += f\"  modelling context: {self.ctx}\"\n",
    "    return out\n",
    "\n",
    "\n",
    "cq.Workplane.__str__ = _wp_str"
   ]
  }
 ],
 "metadata": {
  "kernelspec": {
   "display_name": "Python 3 (ipykernel)",
   "language": "python",
   "name": "python3"
  },
  "language_info": {
   "codemirror_mode": {
    "name": "ipython",
    "version": 3
   },
   "file_extension": ".py",
   "mimetype": "text/x-python",
   "name": "python",
   "nbconvert_exporter": "python",
   "pygments_lexer": "ipython3",
   "version": "3.11.6"
  }
 },
 "nbformat": 4,
 "nbformat_minor": 5
}
